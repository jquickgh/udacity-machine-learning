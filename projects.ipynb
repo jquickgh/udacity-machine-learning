{
 "cells": [
  {
   "cell_type": "markdown",
   "metadata": {},
   "source": [
    "# Machine Learning Engineer Nanodegree\n",
    "\n",
    "### [Finding Charity Donors](https://github.com/jquickgh/finding-charity-donors/blob/master/finding_donors.ipynb)\n",
    " - **Machine Learning (Supervised): Classification**\n",
    " - **Algorithm: Gradient Boosting Classifier**\n",
    " - **Performance Metric: fbeta_score**\n",
    " - **Stack: Python, SKlearn**\n",
    "\n",
    "### [Dog Breed Classifier](https://github.com/jquickgh/dog-breed-classifier/blob/master/dog_app.ipynb)\n",
    " - **Deep Learning (Supervised): Computer Vision, Classification**\n",
    " - **Algorithm: Convolutional Neural Network (CNN)**\n",
    " - **Performance Metric: Categorical Crossentropy**\n",
    " - **Stack: Python, TensorFlow, Keras** \n",
    "\n",
    "### [Creating Customer Segments](https://github.com/jquickgh/creating-customer-segments/blob/master/customer_segments.ipynb)\n",
    " - **Machine Learning (Unsupervised): Clustering**\n",
    " - **Algorithm: PCA, Gaussian Mixture**\n",
    " - **Performance Metric: Silhouette Score**\n",
    " - **Stack: Python, Sklearn**\n",
    "\n",
    "### [Boston Housing Prices](https://github.com/jquickgh/boston-housing-prices/blob/master/boston_housing.ipynb)\n",
    " - **Machine Learning (Supervised): Regression**\n",
    " - **Algorithm: Decision Tree Regressor**\n",
    " - **Performance Metric: r2_score**\n",
    " - **Stack: Python, Sklearn**"
   ]
  }
 ],
 "metadata": {
  "kernelspec": {
   "display_name": "Python 3",
   "language": "python",
   "name": "python3"
  },
  "language_info": {
   "codemirror_mode": {
    "name": "ipython",
    "version": 3
   },
   "file_extension": ".py",
   "mimetype": "text/x-python",
   "name": "python",
   "nbconvert_exporter": "python",
   "pygments_lexer": "ipython3",
   "version": "3.6.3"
  }
 },
 "nbformat": 4,
 "nbformat_minor": 2
}
